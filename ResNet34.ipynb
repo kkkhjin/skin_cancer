{
  "nbformat": 4,
  "nbformat_minor": 0,
  "metadata": {
    "colab": {
      "name": "ResNet34.ipynb의 사본",
      "provenance": []
    },
    "kernelspec": {
      "name": "python3",
      "display_name": "Python 3"
    },
    "language_info": {
      "name": "python"
    }
  },
  "cells": [
    {
      "cell_type": "code",
      "metadata": {
        "id": "Gxx25Zhap8at"
      },
      "source": [
        "#Essential Libraries"
      ],
      "execution_count": null,
      "outputs": []
    },
    {
      "cell_type": "code",
      "metadata": {
        "id": "Z-TucrxkmYux",
        "collapsed": true
      },
      "source": [
        "import numpy as np # linear algebra\n",
        "import pandas as pd # data processing, CSV file I/O (e.g. pd.read_csv)\n",
        "\n",
        "import os\n",
        "print(os.listdir(\"../content/drive/MyDrive/dataset/archive/data/train\"))\n",
        "\n",
        "from fastai.vision import *\n",
        "from fastai.metrics import error_rate\n",
        "# Any results you write to the current directory are saved as output.\n",
        "\n",
        "#start batch size at 64 can reduce based on GPU\n",
        "bs = 64"
      ],
      "execution_count": null,
      "outputs": []
    },
    {
      "cell_type": "code",
      "metadata": {
        "id": "D0eyB6VNpQ-I"
      },
      "source": [
        "%reload_ext autoreload\n",
        "%autoreload 2\n",
        "%matplotlib inline"
      ],
      "execution_count": null,
      "outputs": []
    },
    {
      "cell_type": "code",
      "metadata": {
        "id": "cN0L4Ze3p5ok"
      },
      "source": [
        "#Dataset"
      ],
      "execution_count": null,
      "outputs": []
    },
    {
      "cell_type": "code",
      "metadata": {
        "id": "TdanVwEQpTQQ"
      },
      "source": [
        "img_dir='../content/drive/MyDrive/dataset/archive/data/train'\n",
        "path=Path(img_dir)\n",
        "path"
      ],
      "execution_count": null,
      "outputs": []
    },
    {
      "cell_type": "code",
      "metadata": {
        "id": "QBSs_a0hpU11"
      },
      "source": [
        "data = ImageDataBunch.from_folder(path, train=\".\", \n",
        "                                  valid_pct=0.2,\n",
        "                                  ds_tfms=get_transforms(flip_vert=True, max_warp=0),\n",
        "                                  size=224,bs=64, \n",
        "                                  num_workers=0).normalize(imagenet_stats)"
      ],
      "execution_count": null,
      "outputs": []
    },
    {
      "cell_type": "code",
      "metadata": {
        "id": "b3DU33p8pWav"
      },
      "source": [
        "data.show_batch(rows=3, figsize=(7,6))"
      ],
      "execution_count": null,
      "outputs": []
    },
    {
      "cell_type": "code",
      "metadata": {
        "id": "mK-rBLaOp1h7"
      },
      "source": [
        "#Model ResNet34"
      ],
      "execution_count": null,
      "outputs": []
    },
    {
      "cell_type": "code",
      "metadata": {
        "id": "RCoXP9WGpZnt"
      },
      "source": [
        "learn = cnn_learner(data, models.resnet34, metrics=accuracy, model_dir=\"/tmp/model/\")"
      ],
      "execution_count": null,
      "outputs": []
    },
    {
      "cell_type": "code",
      "metadata": {
        "id": "GuNuJWADpase"
      },
      "source": [
        "learn.lr_find()\n",
        "learn.recorder.plot()"
      ],
      "execution_count": null,
      "outputs": []
    },
    {
      "cell_type": "code",
      "metadata": {
        "id": "Pi7qkul3pcM0"
      },
      "source": [
        "learn.fit_one_cycle(30,1e-2)"
      ],
      "execution_count": null,
      "outputs": []
    },
    {
      "cell_type": "code",
      "metadata": {
        "id": "j3yDPPH5pds9"
      },
      "source": [
        "learn.save('stage-1')"
      ],
      "execution_count": null,
      "outputs": []
    },
    {
      "cell_type": "code",
      "metadata": {
        "id": "SIBocwrFpwGy"
      },
      "source": [
        "#Check Model"
      ],
      "execution_count": null,
      "outputs": []
    },
    {
      "cell_type": "code",
      "metadata": {
        "id": "C-c2Ttn0pf7x"
      },
      "source": [
        "interp = ClassificationInterpretation.from_learner(learn)\n",
        "\n",
        "losses,idxs = interp.top_losses()\n",
        "\n",
        "len(data.valid_ds)==len(losses)==len(idxs)"
      ],
      "execution_count": null,
      "outputs": []
    },
    {
      "cell_type": "code",
      "metadata": {
        "id": "XLZXylSKphxX"
      },
      "source": [
        "interp.plot_top_losses(9, figsize=(15,11))"
      ],
      "execution_count": null,
      "outputs": []
    },
    {
      "cell_type": "code",
      "metadata": {
        "id": "4z1Zlg7hpj2G"
      },
      "source": [
        "interp.plot_confusion_matrix(figsize=(4,4), dpi=60)"
      ],
      "execution_count": null,
      "outputs": []
    },
    {
      "cell_type": "code",
      "metadata": {
        "id": "-gPTNoWQprPM"
      },
      "source": [
        "#Optimize ResNet34"
      ],
      "execution_count": null,
      "outputs": []
    },
    {
      "cell_type": "code",
      "metadata": {
        "id": "Gs8A75eMpl4Y"
      },
      "source": [
        "learn.unfreeze()"
      ],
      "execution_count": null,
      "outputs": []
    },
    {
      "cell_type": "code",
      "metadata": {
        "id": "D_cIcr53pm__"
      },
      "source": [
        "learn.lr_find()\n",
        "learn.recorder.plot()"
      ],
      "execution_count": null,
      "outputs": []
    },
    {
      "cell_type": "code",
      "metadata": {
        "id": "lV080gv0poUm"
      },
      "source": [
        "learn.unfreeze()\n",
        "learn.fit_one_cycle(10, max_lr=slice(1e-6,1e-4))"
      ],
      "execution_count": null,
      "outputs": []
    }
  ]
}